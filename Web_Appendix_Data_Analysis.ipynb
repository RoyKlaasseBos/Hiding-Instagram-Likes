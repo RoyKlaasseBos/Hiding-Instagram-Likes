{
 "cells": [
  {
   "cell_type": "markdown",
   "metadata": {},
   "source": [
    "<img src=\"./images/instagram_header.png\" align=\"left\" style=\"margin-bottom: 20px\"/>"
   ]
  },
  {
   "cell_type": "markdown",
   "metadata": {},
   "source": [
    "<h2> Web Appendix - Data Analysis </h2>\n",
    "\n",
    "<p style=\"clear: both;\">This online appendix complements the master thesis \"Goodbye Likes, Hello Mental Health: How Hiding Like Counts Affects User Behavior & Self-Esteem\":</p> \n",
    "\n",
    "<p><i>Likes are widely available on social network services and are known to influence people’s self-image. An emerging literature has started to look at potential detrimental effects of social media use among teenagers. We study how Instagram users’ posting frequency, variety, like behavior, and relative self-esteem are affected by an intervention in which like counts were hidden in selected treatment countries. Using a unique panel data set of individual users’ Instagram posts across multiple years, we find evidence that users posted more frequently and more varied than in the months prior to the intervention. On the other hand, the number of likes decreases as people are no longer influenced by others’ evaluations, especially among users with a small following. Further, in an experiment we show that the number of likes people see on others’ posts affects their relative self-esteem, and that users are more likely to self-disclose once they rate themselves more positively. These results are critical to understanding the dynamics on visual-based social media in order to foster a healthy online environment.</i></p>\n",
    "\n",
    "<p>In this notebook, we perform the following steps (run this .ipynb-file locally for clickable anchors): </p>\n",
    "\n",
    "H. [Differences in Differences](#differences-in-differences)  \n",
    "I. [Randomized Experiment](#experiment)  \n",
    "\n",
    "<i> Note: Steps A-G (data collection & preparation) can be found over <a href=\"https://github.com/RoyKlaasseBos/Hiding-Instagram-Likes/blob/master/Web_Appendix_Data_Collection_Preparation.ipynb\">here</a>. </i>"
   ]
  },
  {
   "cell_type": "code",
   "execution_count": 1,
   "metadata": {
    "collapsed": true
   },
   "outputs": [],
   "source": [
    "# support R in Jupyter Notebook\n",
    "%load_ext rpy2.ipython"
   ]
  },
  {
   "cell_type": "code",
   "execution_count": 2,
   "metadata": {},
   "outputs": [
    {
     "name": "stderr",
     "output_type": "stream",
     "text": [
      "R[write to console]: Loading required package: DBI\n",
      "\n",
      "R[write to console]: Loading required package: lmtest\n",
      "\n",
      "R[write to console]: Loading required package: zoo\n",
      "\n",
      "R[write to console]: \n",
      "Attaching package: ‘zoo’\n",
      "\n",
      "\n",
      "R[write to console]: The following objects are masked from ‘package:base’:\n",
      "\n",
      "    as.Date, as.Date.numeric\n",
      "\n",
      "\n",
      "R[write to console]: Classes and Methods for R developed in the\n",
      "Political Science Computational Laboratory\n",
      "Department of Political Science\n",
      "Stanford University\n",
      "Simon Jackman\n",
      "hurdle and zeroinfl functions by Achim Zeileis\n",
      "\n"
     ]
    }
   ],
   "source": [
    "%%R \n",
    "# in case you are unable to select a CRAN mirror in Jupyter Notebook: open RStudio and install the packages there which resolves the issue.\n",
    "install.packages(c(\"RPostgreSQL\", \"erer\", \"ez\", \"MASS\", \"pscl\", \"psych\", \"plm\", \"reshape\"))\n",
    "library(RPostgreSQL) # dbGetQuery\n",
    "library(erer) # ocME\n",
    "library(ez) # ezANOVA\n",
    "library(MASS) # polr\n",
    "library(pscl) # pR2\n",
    "library(psych) # alpha\n",
    "library(plm) # plm\n",
    "library(reshape) # melt\n",
    "\n",
    "host = Sys.getenv(c(\"INSTAGRAM_DB_URL\"))\n",
    "password = Sys.getenv(c(\"INSTAGRAM_DB_KEY\"))\n",
    "\n",
    "drv = dbDriver(\"PostgreSQL\")\n",
    "con = dbConnect(drv, host=host, \n",
    "                port='5432', dbname='postgres',\n",
    "                user='postgres', password=password)"
   ]
  },
  {
   "cell_type": "markdown",
   "metadata": {},
   "source": [
    "<a id='differences-in-differences'></a>\n",
    "### H. Difference in Differences\n",
    "In line with our hypotheses, we examine posting frequency (H1), variety (H2), and like behavior (H3). To this end, we query the local data base and apply a difference in differences (DiD) approach to estimate the effect of hiding like counts on our matched sample of users. \n",
    "\n",
    "We compare the outcome measures of Instagram users in the treatment countries with those in control countries. As Canadians enter the treatment group prior to Australians, Brazilians, and Italians, we estimate a DiD where the time variable is relative to the intervention date.\n",
    "\n",
    "$Y_{it} = \\alpha_i + \\gamma_t + I_{t} + \\tau_{i} \\cdot I_{t}  + \\epsilon_{it}$\n",
    "\n",
    "where $Y_it$ is the dependent variable for user i at time t, \n",
    "$\\alpha_i$ is a user-level fixed effect, \n",
    "$\\gamma_t$ is a trend variable, \n",
    "$\\tau_{i}$ is 1 of if user i was assigned to the treatment group and 0 otherwise, \n",
    "$I_{t}$ is 1 if the intervention was implemented at time t and 0 otherwise, \n",
    "$\\epsilon_{it}$ is the error term for user i at time t \n",
    "\n",
    "User level fixed effects control for time-invariant user characteristics. Intervention 1 and 2 take place in late April and mid-July, respectively. Given above equation, we are especially interested in the coefficient estimate and significance of the interaction between the treatment group and intervention variables as this indicates whether treatment units respond significantly different to the intervention than control units. To account for any serial correlation, we use robust standard errors clustered at the user level."
   ]
  },
  {
   "cell_type": "markdown",
   "metadata": {},
   "source": [
    "#### H.1 Posting frequency\n",
    "We run a difference in differences model on the monthly number of Instagram posts and interpret the coefficients. Reported R-Square values are obtained by running a linear model with user fixed effects. The model coefficients relate to the regression output as follows:\n",
    "\n",
    "| Coefficient | Regression Output | \n",
    "| :--- | :--- |\n",
    "| $\\gamma_t$ | `counter` |\n",
    "| $I_{t}$ | `interventionTRUE` |\n",
    "| $\\tau_{i} \\cdot I_{t}$ | `treatment:interventionTRUE`|"
   ]
  },
  {
   "cell_type": "code",
   "execution_count": 3,
   "metadata": {
    "collapsed": true
   },
   "outputs": [],
   "source": [
    "%%R\n",
    "# for each user collect the number of posts, mean number of likes per post, and mean number of comments per post in each month\n",
    "posts_likes_comments_query = \n",
    "\"\n",
    "SELECT c.username, followers_count, following_count, treatment, \n",
    "CASE WHEN country = 'canada' THEN date_part('year', age(month, '2019-05-01')) * 12 + date_part('month', age(month, '2019-05-01'))\n",
    "WHEN country != 'canada' THEN date_part('year', age(month, '2019-08-01')) * 12 + date_part('month', age(month, '2019-08-01')) END as months_since_intervention,\n",
    "posts, likes, comments\n",
    "FROM\n",
    "(SELECT c.username, country, followers_count, following_count,\n",
    " to_date(concat_ws('-', date_part('year', timestamp), date_part('month', timestamp), '1'), 'YYYY-MM-DD') as month, \n",
    " COUNT(DISTINCT(shortcode)) as posts, \n",
    " CASE WHEN country IN ('australia', 'canada', 'italy') THEN 1 ELSE 0 END as treatment,\n",
    " AVG(total_likes) as likes,\n",
    "AVG(total_comments) as comments\n",
    "FROM consumers_posts c\n",
    "INNER JOIN consumers_country cc ON cc.username = c.username\n",
    "INNER JOIN consumers_profile cp ON c.username = cp.username \n",
    "INNER JOIN consumers_psm cpsm ON cpsm.username = c.username\n",
    "WHERE CASE WHEN country = 'canada' THEN DATE(timestamp) >= '2018-04-30' AND DATE(timestamp) <= '2020-04-30'\n",
    "WHEN country != 'canada' THEN DATE(timestamp) >= '2018-07-17' AND DATE(timestamp) <= '2020-07-17' END\n",
    "GROUP BY c.username, followers_count, following_count, treatment, cc.country, to_date(concat_ws('-', date_part('year', timestamp), date_part('month', timestamp), '1'), 'YYYY-MM-DD')) as c\n",
    "\"\n",
    "\n",
    "posts = dbGetQuery(con, posts_likes_comments_query)\n",
    "posts$after = posts$months_since_intervention >= 0 # create boolean that indicates whether the intervention was in place in a given month\n",
    "posts$counter = posts$months_since_intervention # copy variable for the panel data analysis (see below)\n",
    "    \n",
    "fill_missing_months = function(df){\n",
    "    # if users do not post in a given month we do not have any record of this. From this we can deduce that the number of posts in that month equals zero. This function searches for missing months and adds these records to the data frame.\n",
    "    for(username in unique(df$username)){\n",
    "        df_user = df[df$username == username,] \n",
    "        min_counter = min(df_user[, 'counter'])\n",
    "        max_counter = max(df_user[, 'counter'])\n",
    "        \n",
    "        for(counter in min_counter:max_counter){\n",
    "            if(!counter %in% df_user$counter){\n",
    "                df[nrow(df) + 1, ] = c(username, df_user[1,'followers_count'], df_user[1,'following_count'], df_user[1,'treatment'], counter, 0, 0, 0, df_user[1,'after'], counter)\n",
    "            }\n",
    "        }\n",
    "    }\n",
    "    num_columns = c('followers_count', 'following_count', 'treatment', 'months_since_intervention', 'posts', 'likes', 'comments', 'counter')\n",
    "    df[, num_columns] = sapply(df[, num_columns], as.numeric) \n",
    "    return(df)\n",
    "}\n",
    "\n",
    "posts = fill_missing_months(posts)\n",
    "\n",
    "# log-transform posting frequency to account for skewness\n",
    "posts[posts$posts == 0, 'posts'] = 0.0001\n",
    "posts$log_posts = log(posts$posts)\n",
    "posts$after = as.logical(posts$after)\n",
    "posts$before = 1-posts$after"
   ]
  },
  {
   "cell_type": "code",
   "execution_count": 4,
   "metadata": {},
   "outputs": [
    {
     "name": "stdout",
     "output_type": "stream",
     "text": [
      "Oneway (individual) effect Within Model\n",
      "\n",
      "Call:\n",
      "plm(formula = as.formula(paste(\"log_posts\", \"~ treatment + after + treatment:after + counter + counter:treatment + after:treatment:counter\")), \n",
      "    data = df.p, model = \"within\")\n",
      "\n",
      "Unbalanced Panel: n = 238, T = 1-25, N = 5016\n",
      "\n",
      "Residuals:\n",
      "       Min.     1st Qu.      Median     3rd Qu.        Max. \n",
      "-9.93207332 -1.00494633  0.00010968  1.39768620  8.21545595 \n",
      "\n",
      "Coefficients:\n",
      "                             Estimate Std. Error  t-value  Pr(>|t|)    \n",
      "afterTRUE                    4.649928   0.149663  31.0693 < 2.2e-16 ***\n",
      "counter                     -0.304943   0.010933 -27.8912 < 2.2e-16 ***\n",
      "treatment:afterTRUE         -0.804188   0.222859  -3.6085 0.0003111 ***\n",
      "treatment:counter           -0.147786   0.016576  -8.9157 < 2.2e-16 ***\n",
      "treatment:afterTRUE:counter  0.465593   0.025173  18.4956 < 2.2e-16 ***\n",
      "---\n",
      "Signif. codes:  0 ‘***’ 0.001 ‘**’ 0.01 ‘*’ 0.05 ‘.’ 0.1 ‘ ’ 1\n",
      "\n",
      "Total Sum of Squares:    39812\n",
      "Residual Sum of Squares: 25925\n",
      "R-Squared:      0.34883\n",
      "Adj. R-Squared: 0.31582\n",
      "F-statistic: 511.381 on 5 and 4773 DF, p-value: < 2.22e-16\n"
     ]
    }
   ],
   "source": [
    "%%R\n",
    "# run a Hausman test comparing random and fixed effects \n",
    "df.p = pdata.frame(posts, index=c('username', 'months_since_intervention'))\n",
    "fixed_effects_posts = plm(as.formula(paste('log_posts', '~ treatment + after + treatment:after + counter + counter:treatment + after:treatment:counter')), data=df.p, model='within')\n",
    "random_effects_posts = plm(as.formula(paste('log_posts', '~ treatment + after + treatment:after + counter + counter:treatment + after:treatment:counter')), data=df.p, model='random')\n",
    "phtest(fixed_effects_posts, random_effects_posts) # choose for fixed effects (p < .001)\n",
    "summary(fixed_effects_posts)"
   ]
  },
  {
   "cell_type": "markdown",
   "metadata": {},
   "source": [
    "#### H.2 Variety"
   ]
  },
  {
   "cell_type": "code",
   "execution_count": 5,
   "metadata": {
    "scrolled": true
   },
   "outputs": [
    {
     "name": "stderr",
     "output_type": "stream",
     "text": [
      "R[write to console]: Warning:\n",
      "R[write to console]:  Converting \"username\" to factor for ANOVA.\n",
      "\n",
      "R[write to console]: Warning:\n",
      "R[write to console]:  Data is unbalanced (unequal N per group). Make sure you specified a well-considered value for the type argument to ezANOVA().\n",
      "\n"
     ]
    },
    {
     "name": "stdout",
     "output_type": "stream",
     "text": [
      "$ANOVA\n",
      "           Effect DFn DFd           F         p p<.05          ges\n",
      "2       treatment   1 233 0.009812402 0.9211777       3.722437e-05\n",
      "3           after   1 233 0.271603036 0.6027534       1.352672e-04\n",
      "4 treatment:after   1 233 0.179523063 0.6721743       8.941245e-05\n",
      "\n"
     ]
    }
   ],
   "source": [
    "%%R\n",
    "# collect data for within-subject image similarity\n",
    "within_subject_tags_query = \n",
    "\"\n",
    "SELECT ist.username, CASE WHEN cc.country IN ('australia', 'canada', 'italy') THEN 1 ELSE 0 END as treatment, \n",
    "CASE WHEN before_after = 'before' THEN 0 ELSE 1 END as after, image_similarity \n",
    "FROM image_similarity_within_tags ist \n",
    "INNER JOIN consumers_psm cp ON cp.username = ist.username \n",
    "INNER JOIN consumers_country cc ON cc.username = ist.username;\n",
    "\"\n",
    "within_subjects_tags = dbGetQuery(con, within_subject_tags_query)\n",
    "within_subjects_tags = within_subjects_tags[!duplicated(within_subjects_tags),] \n",
    "within_subjects_tags$after = factor(within_subjects_tags$after)\n",
    "within_subjects_tags$treatment = factor(within_subjects_tags$treatment)\n",
    "\n",
    "# image similarity did not differ between both treatment conditions nor before and after the intervention\n",
    "ezANOVA(data = within_subjects_tags, \n",
    "        wid = username, \n",
    "        within = .(after), \n",
    "        between = .(treatment),\n",
    "        dv = image_similarity)"
   ]
  },
  {
   "cell_type": "code",
   "execution_count": 6,
   "metadata": {},
   "outputs": [
    {
     "name": "stderr",
     "output_type": "stream",
     "text": [
      "R[write to console]: Warning:\n",
      "R[write to console]:  Converting \"username1_2\" to factor for ANOVA.\n",
      "\n",
      "R[write to console]: Warning:\n",
      "R[write to console]:  Data is unbalanced (unequal N per group). Make sure you specified a well-considered value for the type argument to ezANOVA().\n",
      "\n"
     ]
    },
    {
     "name": "stdout",
     "output_type": "stream",
     "text": [
      "$ANOVA\n",
      "           Effect DFn   DFd         F            p p<.05          ges\n",
      "2       treatment   1 13810 71.801250 2.618727e-17     * 4.617082e-03\n",
      "3           after   1 13810  8.931177 2.808368e-03     * 6.974213e-05\n",
      "4 treatment:after   1 13810 69.793206 7.208961e-17     * 5.447451e-04\n",
      "\n"
     ]
    }
   ],
   "source": [
    "%%R\n",
    "# collect data for between-subjects image similarity (only compare treatment units with treatment units or control units with control units)\n",
    "between_subjects_tags_query = \n",
    "\"\n",
    "SELECT username1, username2, username1_2, \n",
    "CASE WHEN before_after = 'after' THEN 1 ELSE 0 END as after,\n",
    "CASE WHEN cc1.country IN ('australia', 'canada', 'italy') THEN 1 ELSE 0 END as treatment,\n",
    "CAST(similarity as numeric)\n",
    "FROM image_similarity_between_tags i\n",
    "INNER JOIN consumers_country cc1 ON i.username1 = cc1.username\n",
    "INNER JOIN consumers_country cc2 ON i.username2 = cc2.username\n",
    "WHERE (cc1.country IN ('australia', 'canada', 'italy') AND cc2.country IN ('australia', 'canada', 'italy'))\n",
    "OR (cc1.country NOT IN ('australia', 'canada', 'italy') AND cc2.country NOT IN ('australia', 'canada', 'italy'))\n",
    "\"\n",
    "between_subjects_tags = dbGetQuery(con, between_subjects_tags_query)\n",
    "\n",
    "# remove duplicates\n",
    "between_subjects_tags = between_subjects_tags[!duplicated(between_subjects_tags[,c('username1_2', 'after')]),]\n",
    "between_subjects_tags$after = factor(between_subjects_tags$after)\n",
    "between_subjects_tags$treatment = factor(between_subjects_tags$treatment)\n",
    "\n",
    "# the treatment group reacted significantly different to the intervention than the control group (repeated-measures ANOVA)\n",
    "ezANOVA(data = between_subjects_tags, \n",
    "        wid = username1_2, \n",
    "        within = .(after), \n",
    "        between = .(treatment),\n",
    "        dv = similarity)"
   ]
  },
  {
   "cell_type": "markdown",
   "metadata": {},
   "source": [
    "#### H.3 Like Behavior"
   ]
  },
  {
   "cell_type": "code",
   "execution_count": 7,
   "metadata": {},
   "outputs": [
    {
     "name": "stdout",
     "output_type": "stream",
     "text": [
      "Oneway (individual) effect Random Effect Model \n",
      "   (Swamy-Arora's transformation)\n",
      "\n",
      "Call:\n",
      "plm(formula = as.formula(paste(\"log_likes1000\", \"~ treatment + after + treatment:after + counter + followers_count + following_count\")), \n",
      "    data = df.p, model = \"random\")\n",
      "\n",
      "Unbalanced Panel: n = 238, T = 1-25, N = 4436\n",
      "\n",
      "Effects:\n",
      "                   var  std.dev share\n",
      "idiosyncratic 111290.1    333.6 0.182\n",
      "individual    498599.0    706.1 0.818\n",
      "theta:\n",
      "   Min. 1st Qu.  Median    Mean 3rd Qu.    Max. \n",
      " 0.5728  0.8862  0.8974  0.8926  0.9040  0.9059 \n",
      "\n",
      "Residuals:\n",
      "    Min.  1st Qu.   Median     Mean  3rd Qu.     Max. \n",
      "-2149.22  -180.64    19.13     0.36   190.44  1640.88 \n",
      "\n",
      "Coefficients:\n",
      "                       Estimate  Std. Error z-value  Pr(>|z|)    \n",
      "(Intercept)         3280.592227   93.083612 35.2435 < 2.2e-16 ***\n",
      "treatment            -94.735094   92.765368 -1.0212  0.307144    \n",
      "afterTRUE            -66.739973   22.063356 -3.0249  0.002487 ** \n",
      "counter                6.150829    1.444412  4.2584 2.059e-05 ***\n",
      "followers_count        0.854000    0.062661 13.6289 < 2.2e-16 ***\n",
      "following_count       -0.081296    0.058534 -1.3889  0.164874    \n",
      "treatment:afterTRUE  -44.965440   20.356808 -2.2089  0.027184 *  \n",
      "---\n",
      "Signif. codes:  0 ‘***’ 0.001 ‘**’ 0.01 ‘*’ 0.05 ‘.’ 0.1 ‘ ’ 1\n",
      "\n",
      "Total Sum of Squares:    527110000\n",
      "Residual Sum of Squares: 493030000\n",
      "R-Squared:      0.06468\n",
      "Adj. R-Squared: 0.063413\n",
      "Chisq: 306.152 on 6 DF, p-value: < 2.22e-16\n"
     ]
    }
   ],
   "source": [
    "%%R\n",
    "likes = dbGetQuery(con, posts_likes_comments_query)\n",
    "likes$after = likes$months_since_intervention >= 0 \n",
    "likes$counter = likes$months_since_intervention\n",
    "\n",
    "for(counter in 1:nrow(likes)){\n",
    "    if(likes[counter, 'likes'] == 0){\n",
    "        likes[counter, 'log_likes'] = 0 # to avoid log-transformation issues\n",
    "    } else {\n",
    "        likes[counter, 'log_likes'] = log(likes[counter, 'likes'])  \n",
    "    }         \n",
    "}\n",
    "\n",
    "df.p = pdata.frame(likes, index=c('username', 'months_since_intervention'))\n",
    "df.p$log_likes1000 = df.p$log_likes * 1000 # so that coefficients can be easier interpreted\n",
    "fixed_effects_likes = plm(as.formula(paste('log_likes1000', \"~ treatment + after + treatment:after + counter + followers_count + following_count\")), data=df.p, model='within')\n",
    "random_effects_likes = plm(as.formula(paste('log_likes1000', \"~ treatment + after + treatment:after + counter + followers_count + following_count\")), data=df.p, model='random')\n",
    "phtest(fixed_effects_likes, random_effects_likes) # choose for random effects (p > .05)\n",
    "\n",
    "# number of likes goes down after the intervention, especially among small-scale audiences\n",
    "summary(random_effects_likes)"
   ]
  },
  {
   "cell_type": "markdown",
   "metadata": {
    "collapsed": true
   },
   "source": [
    "### I. Randomized Experiment\n",
    "<a id=\"experiment\"></a>\n",
    "\n",
    "<h5> I.1 Manipulation</h5>\n",
    "<p>Our responses were recruited via a questionnaire-based <a href=\"https://tilburgss.co1.qualtrics.com/jfe/form/SV_brsLIHF0unNdsBT\">experiment</a> on Prolific. We required workers to be aged between 18 to 30 years and active Instagram users to ensure they are familiar with the platform dynamics. Participants were randomly assigned to one of three same-gender conditions: high likes (128), low likes (15), and hidden likes. Individuals who self-identify as \"Other\" in the gender question were shown a picture of a woman.</p>\n",
    "\n",
    "<img src=\"./images/experiment_pictures.png\" align=\"left\" width=\"800px\"/>"
   ]
  },
  {
   "cell_type": "markdown",
   "metadata": {},
   "source": [
    "<h5 style=\"clear: both;\"> I.2 Target- and self-ratings</h5>\n",
    "<p>They were asked to imagine that the person portrayed on the photo was their neighbor. Then, we asked participants to make specific evaluations of themselves and the target person in terms of likeability, popularity, and attractiveness:</p>\n",
    "\n",
    "<img src=\"./images/target_self_ratings.png\" alt=\"Questionnaire self and target ratings\" align=\"left\" width=\"600px\"/>"
   ]
  },
  {
   "cell_type": "markdown",
   "metadata": {},
   "source": [
    "<h5 style=\"clear: both;\"> I.3 User behavior & demographics</h5>\n",
    "<p>Thereafter, we measured user’s intention to like, comment, or share the picture after viewing the post. Finally, the questionnaire concluded by collecting the frequency of Instagram use and demographic information of the participants such as age and ethnicity. We received 600 responses which we analyze in the code blocks below.</p>"
   ]
  },
  {
   "cell_type": "code",
   "execution_count": 8,
   "metadata": {
    "collapsed": true
   },
   "outputs": [],
   "source": [
    "%%R\n",
    "# import data\n",
    "df = dbGetQuery(con, \"SELECT * FROM experiment\")\n",
    "\n",
    "# exclude unknown genders (users who filled out \"Other\")\n",
    "df = df[df$gender %in% c(1,2),]\n",
    "\n",
    "# convert to factor\n",
    "df$ethnicity = as.factor(df$ethnicity)\n",
    "\n",
    "# construct reliability (Cronbach-Alpha)\n",
    "alpha(df[,c('other.evaluation_1', 'other.evaluation_2', 'other.evaluation_3')]) #CR: 0.67\n",
    "alpha(df[,c('self.evaluation_1', 'self.evaluation_2', 'self.evaluation_3')]) #CR: 0.78\n",
    "\n",
    "# calculate aggregated target and self-ratings\n",
    "df$target_rating = (df$other.evaluation_1 + df$other.evaluation_2 + df$other.evaluation_3)/3\n",
    "df$self_rating = (df$self.evaluation_1 + df$self.evaluation_2 + df$self.evaluation_3)/3\n",
    "\n",
    "# derive relative self-esteem (difference between target and self-ratings)\n",
    "df$difference_evaluation = df$target_rating - df$self_rating"
   ]
  },
  {
   "cell_type": "code",
   "execution_count": 9,
   "metadata": {},
   "outputs": [
    {
     "name": "stdout",
     "output_type": "stream",
     "text": [
      "                 Df Sum Sq Mean Sq F value Pr(>F)  \n",
      "condition         2   12.2   6.087   3.305 0.0374 *\n",
      "gender            1    4.6   4.612   2.504 0.1141  \n",
      "age               1    3.1   3.120   1.694 0.1936  \n",
      "ethnicity         4   10.7   2.671   1.450 0.2161  \n",
      "instagram_usage   1    4.9   4.913   2.667 0.1030  \n",
      "Residuals       582 1072.0   1.842                 \n",
      "---\n",
      "Signif. codes:  0 ‘***’ 0.001 ‘**’ 0.01 ‘*’ 0.05 ‘.’ 0.1 ‘ ’ 1\n",
      "  Tukey multiple comparisons of means\n",
      "    95% family-wise confidence level\n",
      "\n",
      "Fit: aov(formula = difference_evaluation ~ condition + gender + age + ethnicity + instagram_usage, data = df)\n",
      "\n",
      "$condition\n",
      "                   diff        lwr          upr     p adj\n",
      "high-hidden  0.05117642 -0.2718321  0.374184944 0.9264655\n",
      "low-hidden  -0.27268164 -0.5975855  0.052222200 0.1200701\n",
      "low-high    -0.32385806 -0.6400208 -0.007695346 0.0432387\n",
      "\n"
     ]
    }
   ],
   "source": [
    "%%R\n",
    "# there is a significant effect of the like count condition on relative self-esteem\n",
    "anova = aov(difference_evaluation ~ condition + gender + age + ethnicity + instagram_usage, data=df)\n",
    "print(summary(anova))\n",
    "\n",
    "TukeyHSD(anova, which = \"condition\")"
   ]
  },
  {
   "cell_type": "code",
   "execution_count": 10,
   "metadata": {},
   "outputs": [
    {
     "name": "stdout",
     "output_type": "stream",
     "text": [
      "                     Df Sum Sq Mean Sq F value   Pr(>F)    \n",
      "variable              1  372.4   372.4 356.032  < 2e-16 ***\n",
      "condition             2    1.8     0.9   0.869  0.41977    \n",
      "gender                1    0.0     0.0   0.022  0.88265    \n",
      "age                   1    6.0     6.0   5.737  0.01677 *  \n",
      "ethnicity             4   16.0     4.0   3.831  0.00424 ** \n",
      "instagram_usage       1   48.8    48.8  46.636 1.37e-11 ***\n",
      "variable:condition    2    6.1     3.0   2.910  0.05486 .  \n",
      "Residuals          1171 1224.8     1.0                     \n",
      "---\n",
      "Signif. codes:  0 ‘***’ 0.001 ‘**’ 0.01 ‘*’ 0.05 ‘.’ 0.1 ‘ ’ 1\n"
     ]
    }
   ],
   "source": [
    "%%R \n",
    "# here we conduct a similar analysis but this time as a 2 (source: self or target) X 3 (likes: low, high, hidden) mixed-model ANOVA (Vogel et al., 2014)\n",
    "# this approach gives comparable results for the interaction between source and likes\n",
    "df_melt = melt(df, colnames(df)[-c(17,18)])\n",
    "anova_source = aov(value ~ variable + condition + variable:condition + gender + age + ethnicity + instagram_usage, data=df_melt)\n",
    "summary(anova_source)"
   ]
  },
  {
   "cell_type": "markdown",
   "metadata": {},
   "source": [
    "<h5 style=\"clear: both;\">Target and self-ratings (low, high, hidden like count)</h5>\n",
    "<img src=\"./images/target_self_rating_chart.png\" width=\"500px\" align=\"left\" />"
   ]
  },
  {
   "cell_type": "markdown",
   "metadata": {},
   "source": [
    "<h5 style=\"clear: both;\">Difference in target and self-ratings</h5>\n",
    "<img src=\"./images/rating_difference.png\" width=\"500px\" align=\"left\" />"
   ]
  },
  {
   "cell_type": "code",
   "execution_count": 11,
   "metadata": {},
   "outputs": [
    {
     "name": "stdout",
     "output_type": "stream",
     "text": [
      "  Group.1 instagram_actions_1 instagram_actions_2 instagram_actions_3\n",
      "1  hidden            3.362162            1.686486            2.713514\n",
      "2    high            3.368932            1.635922            2.509709\n",
      "3     low            3.368159            1.716418            2.761194\n",
      "  instagram_actions_4\n",
      "1            1.870270\n",
      "2            1.781553\n",
      "3            2.049751\n"
     ]
    }
   ],
   "source": [
    "%%R\n",
    "# follow-up user behavior as a function of the like count\n",
    "aggregate(df[,c('instagram_actions_1', 'instagram_actions_2', 'instagram_actions_3', 'instagram_actions_4')], list(df$condition), mean)"
   ]
  },
  {
   "cell_type": "code",
   "execution_count": 12,
   "metadata": {},
   "outputs": [
    {
     "name": "stdout",
     "output_type": "stream",
     "text": [
      "                 Df   Pillai approx F num Df den Df    Pr(>F)    \n",
      "condition         2 0.005771   0.5605      6   1162   0.76200    \n",
      "gender            1 0.029619   5.9012      3    580   0.00057 ***\n",
      "age               1 0.094243  20.1162      3    580 2.050e-12 ***\n",
      "ethnicity         4 0.071790   3.5672     12   1746 2.840e-05 ***\n",
      "instagram_usage   1 0.058748  12.0668      3    580 1.135e-07 ***\n",
      "Residuals       582                                              \n",
      "---\n",
      "Signif. codes:  0 ‘***’ 0.001 ‘**’ 0.01 ‘*’ 0.05 ‘.’ 0.1 ‘ ’ 1\n"
     ]
    }
   ],
   "source": [
    "%%R\n",
    "# the manipulation (condition) did not affect any of the dependent measures\n",
    "manova_results = manova(cbind(instagram_actions_1, instagram_actions_2, instagram_actions_4) ~ condition + gender + age + ethnicity + instagram_usage, data = df)\n",
    "summary(manova_results)"
   ]
  },
  {
   "cell_type": "code",
   "execution_count": 13,
   "metadata": {},
   "outputs": [
    {
     "name": "stdout",
     "output_type": "stream",
     "text": [
      "Call:\n",
      "polr(formula = instagram_actions_4_fact ~ condition + gender + \n",
      "    age + ethnicity + instagram_usage + self_rating + target_rating, \n",
      "    data = df, Hess = TRUE, method = \"probit\")\n",
      "\n",
      "Coefficients:\n",
      "                   Value Std. Error t value\n",
      "conditionhigh   -0.08909    0.10786 -0.8260\n",
      "conditionlow     0.07798    0.10807  0.7216\n",
      "gender           0.08151    0.08741  0.9325\n",
      "age              0.03278    0.01232  2.6613\n",
      "ethnicity2       0.33974    0.13819  2.4585\n",
      "ethnicity3       0.05818    0.15940  0.3650\n",
      "ethnicity4      -0.11820    0.12859 -0.9192\n",
      "ethnicity5      -0.07347    0.31183 -0.2356\n",
      "instagram_usage  0.05618    0.03931  1.4290\n",
      "self_rating      0.38661    0.04185  9.2378\n",
      "target_rating   -0.01271    0.04856 -0.2617\n",
      "\n",
      "Intercepts:\n",
      "    Value   Std. Error t value\n",
      "0|1  1.9932  0.4381     4.5492\n",
      "1|2  2.7028  0.4407     6.1333\n",
      "2|3  3.1568  0.4432     7.1225\n",
      "3|4  3.7745  0.4491     8.4043\n",
      "4|5  4.2121  0.4558     9.2417\n",
      "5|6  4.8627  0.4695    10.3579\n",
      "\n",
      "Residual Deviance: 1967.76 \n",
      "AIC: 2001.76 \n",
      "          llh       llhNull            G2      McFadden          r2ML \n",
      "-9.838801e+02 -1.049692e+03  1.316236e+02  6.269629e-02  1.993546e-01 \n",
      "         r2CU \n",
      " 2.052731e-01 \n",
      "$ME.0\n",
      "                effect error t.value p.value\n",
      "conditionhigh    0.027 0.033   0.818   0.414\n",
      "conditionlow    -0.024 0.032  -0.729   0.467\n",
      "gender          -0.025 0.027  -0.932   0.352\n",
      "age             -0.010 0.004  -2.656   0.008\n",
      "ethnicity2      -0.093 0.034  -2.759   0.006\n",
      "ethnicity3      -0.017 0.047  -0.372   0.710\n",
      "ethnicity4       0.037 0.041   0.894   0.372\n",
      "ethnicity5       0.023 0.100   0.230   0.818\n",
      "instagram_usage -0.017 0.012  -1.428   0.154\n",
      "self_rating     -0.118 0.013  -8.888   0.000\n",
      "target_rating    0.004 0.015   0.262   0.794\n",
      "\n",
      "$ME.1\n",
      "                effect error t.value p.value\n",
      "conditionhigh    0.008 0.010   0.848   0.397\n",
      "conditionlow    -0.008 0.011  -0.700   0.484\n",
      "gender          -0.008 0.008  -0.924   0.356\n",
      "age             -0.003 0.001  -2.474   0.014\n",
      "ethnicity2      -0.040 0.020  -2.047   0.041\n",
      "ethnicity3      -0.006 0.017  -0.347   0.728\n",
      "ethnicity4       0.010 0.010   1.020   0.308\n",
      "ethnicity5       0.006 0.025   0.259   0.796\n",
      "instagram_usage -0.005 0.004  -1.397   0.163\n",
      "self_rating     -0.037 0.007  -5.515   0.000\n",
      "target_rating    0.001 0.005   0.261   0.794\n",
      "\n",
      "$ME.2\n",
      "                effect error t.value p.value\n",
      "conditionhigh   -0.003 0.004  -0.764   0.445\n",
      "conditionlow     0.003 0.003   0.754   0.451\n",
      "gender           0.003 0.003   0.902   0.367\n",
      "age              0.001 0.001   2.189   0.029\n",
      "ethnicity2       0.004 0.003   1.269   0.205\n",
      "ethnicity3       0.002 0.004   0.417   0.677\n",
      "ethnicity4      -0.005 0.006  -0.782   0.434\n",
      "ethnicity5      -0.003 0.014  -0.206   0.837\n",
      "instagram_usage  0.002 0.001   1.339   0.181\n",
      "self_rating      0.013 0.004   3.462   0.001\n",
      "target_rating    0.000 0.002  -0.261   0.794\n",
      "\n",
      "$ME.3\n",
      "                effect error t.value p.value\n",
      "conditionhigh   -0.012 0.015  -0.819   0.413\n",
      "conditionlow     0.010 0.014   0.726   0.468\n",
      "gender           0.011 0.012   0.929   0.353\n",
      "age              0.004 0.002   2.550   0.011\n",
      "ethnicity2       0.040 0.015   2.760   0.006\n",
      "ethnicity3       0.008 0.021   0.371   0.711\n",
      "ethnicity4      -0.016 0.018  -0.897   0.370\n",
      "ethnicity5      -0.010 0.043  -0.231   0.817\n",
      "instagram_usage  0.007 0.005   1.410   0.159\n",
      "self_rating      0.051 0.008   6.458   0.000\n",
      "target_rating   -0.002 0.006  -0.262   0.794\n",
      "\n",
      "$ME.4\n",
      "                effect error t.value p.value\n",
      "conditionhigh   -0.009 0.010  -0.827   0.408\n",
      "conditionlow     0.008 0.011   0.715   0.475\n",
      "gender           0.008 0.009   0.927   0.354\n",
      "age              0.003 0.001   2.489   0.013\n",
      "ethnicity2       0.035 0.015   2.295   0.022\n",
      "ethnicity3       0.006 0.016   0.361   0.718\n",
      "ethnicity4      -0.011 0.012  -0.933   0.351\n",
      "ethnicity5      -0.007 0.030  -0.240   0.810\n",
      "instagram_usage  0.006 0.004   1.400   0.162\n",
      "self_rating      0.038 0.007   5.813   0.000\n",
      "target_rating   -0.001 0.005  -0.262   0.794\n",
      "\n",
      "$ME.5\n",
      "                effect error t.value p.value\n",
      "conditionhigh   -0.008 0.010  -0.832   0.406\n",
      "conditionlow     0.007 0.010   0.708   0.479\n",
      "gender           0.007 0.008   0.923   0.356\n",
      "age              0.003 0.001   2.501   0.013\n",
      "ethnicity2       0.036 0.017   2.092   0.037\n",
      "ethnicity3       0.006 0.016   0.354   0.723\n",
      "ethnicity4      -0.010 0.011  -0.962   0.337\n",
      "ethnicity5      -0.006 0.026  -0.246   0.806\n",
      "instagram_usage  0.005 0.004   1.405   0.160\n",
      "self_rating      0.036 0.006   5.776   0.000\n",
      "target_rating   -0.001 0.004  -0.262   0.794\n",
      "\n",
      "$ME.6\n",
      "                effect error t.value p.value\n",
      "conditionhigh   -0.004 0.004  -0.833   0.405\n",
      "conditionlow     0.003 0.005   0.693   0.488\n",
      "gender           0.003 0.004   0.910   0.363\n",
      "age              0.001 0.001   2.318   0.021\n",
      "ethnicity2       0.018 0.010   1.801   0.072\n",
      "ethnicity3       0.003 0.007   0.346   0.729\n",
      "ethnicity4      -0.004 0.005  -0.980   0.328\n",
      "ethnicity5      -0.003 0.011  -0.254   0.799\n",
      "instagram_usage  0.002 0.002   1.368   0.172\n",
      "self_rating      0.016 0.004   4.049   0.000\n",
      "target_rating   -0.001 0.002  -0.261   0.794\n",
      "\n",
      "$ME.all\n",
      "                effect.0 effect.1 effect.2 effect.3 effect.4 effect.5 effect.6\n",
      "conditionhigh      0.027    0.008   -0.003   -0.012   -0.009   -0.008   -0.004\n",
      "conditionlow      -0.024   -0.008    0.003    0.010    0.008    0.007    0.003\n",
      "gender            -0.025   -0.008    0.003    0.011    0.008    0.007    0.003\n",
      "age               -0.010   -0.003    0.001    0.004    0.003    0.003    0.001\n",
      "ethnicity2        -0.093   -0.040    0.004    0.040    0.035    0.036    0.018\n",
      "ethnicity3        -0.017   -0.006    0.002    0.008    0.006    0.006    0.003\n",
      "ethnicity4         0.037    0.010   -0.005   -0.016   -0.011   -0.010   -0.004\n",
      "ethnicity5         0.023    0.006   -0.003   -0.010   -0.007   -0.006   -0.003\n",
      "instagram_usage   -0.017   -0.005    0.002    0.007    0.006    0.005    0.002\n",
      "self_rating       -0.118   -0.037    0.013    0.051    0.038    0.036    0.016\n",
      "target_rating      0.004    0.001    0.000   -0.002   -0.001   -0.001   -0.001\n",
      "\n"
     ]
    }
   ],
   "source": [
    "%%R\n",
    "# ordered probit regression - posting frequency (example)\n",
    "# note that these type of models are prefered given the ordinal scale of the answer response options (yet a simple lm-model gives comparable results)\n",
    "df$instagram_actions_4_fact = as.factor(df$instagram_actions_4)\n",
    "post_probit = polr(instagram_actions_4_fact ~ condition + gender + age + ethnicity + instagram_usage + self_rating + target_rating, data = df, Hess = TRUE, method='probit')\n",
    "print(summary(post_probit))\n",
    "print(pR2(post_probit))\n",
    "ocME(post_probit)$out"
   ]
  },
  {
   "cell_type": "markdown",
   "metadata": {},
   "source": [
    "<img src=\"./images/instagram_header.png\" align=\"left\"/>"
   ]
  },
  {
   "cell_type": "markdown",
   "metadata": {},
   "source": [
    "*Klaasse Bos, R.J. (2020). Web Appendix: Goodbye Likes, Hello Mental Health: How Hiding Like Counts Affects User Behavior & Self-Esteem.*"
   ]
  }
 ],
 "metadata": {
  "kernelspec": {
   "display_name": "Python 3",
   "language": "python",
   "name": "python3"
  },
  "language_info": {
   "codemirror_mode": {
    "name": "ipython",
    "version": 3
   },
   "file_extension": ".py",
   "mimetype": "text/x-python",
   "name": "python",
   "nbconvert_exporter": "python",
   "pygments_lexer": "ipython3",
   "version": "3.8.3"
  }
 },
 "nbformat": 4,
 "nbformat_minor": 2
}
