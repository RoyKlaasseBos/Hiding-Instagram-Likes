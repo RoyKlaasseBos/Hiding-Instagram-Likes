{
 "cells": [
  {
   "cell_type": "markdown",
   "metadata": {},
   "source": [
    "# Data set description\n",
    "This data has been scraped from Instagram in July 2020. Specifically, it provides a list of 111960 historical posts from 316 Instagram users. Image content associated with these posts have been analyzed with Azure Vision API to compute image-similarity within and between-subjects. All data have been normalized and separated into various schemas, whose variable operationalisations we describe next."
   ]
  },
  {
   "cell_type": "markdown",
   "metadata": {},
   "source": [
    "## `consumers_posts`\n",
    "\n",
    "| ** Variable ** | ** Operationalisation ** | \n",
    "| :---- | :--- | \n",
    "| content_type | Type of content, GraphImage (images), GraphSidecar (carousel), or GraphVideo (video) |\n",
    "| media1 | Link to media file (URL signature only valid for limited time) |\n",
    "| shortcode | Instagram post ID (visit instagram.com/p/{shortcode} to view the associated post)|\n",
    "| total_comments | Number of comments at data retrieval |\n",
    "| username | Instagram username of the account |\n",
    "| video_views | Number of video views at data retrieval (null for images) |\n",
    "| date | Publication date of the post |"
   ]
  },
  {
   "cell_type": "markdown",
   "metadata": {},
   "source": [
    "## `consumers_country`\n",
    "\n",
    "| ** Variable ** | ** Operationalisation ** | \n",
    "| :---- | :--- | \n",
    "| username | Instagram username of the account |\n",
    "| country | The country of origin of an Instagram user |"
   ]
  },
  {
   "cell_type": "markdown",
   "metadata": {},
   "source": [
    "## `consumers_profile`\n",
    "\n",
    "| ** Variable ** | ** Operationalisation ** | \n",
    "| :---- | :--- | \n",
    "| biography | A section on a user's profile page to include personal  information |\n",
    "| followers_count | The number of accounts that follow the user at data retrieval |\n",
    "| following_count | The number of accounts a user follows at data retrieval|\n",
    "| full_name | The first and last name of a user (may deviate from the username) |\n",
    "| posts_count | The total number of posts on Instagram for a user at data retrieval|\n",
    "| username | Instagram username of the account |\n",
    "\n"
   ]
  },
  {
   "cell_type": "markdown",
   "metadata": {},
   "source": [
    "## `consumers_psm`\n",
    "\n",
    "| ** Variable ** | ** Operationalisation ** | \n",
    "| :---- | :--- | \n",
    "| username | Instagram username of the account (only includes usernames that are a part of the matched sample) |\n",
    "| type | Indicator variable for the test condition (either treatment or control) |"
   ]
  },
  {
   "cell_type": "markdown",
   "metadata": {},
   "source": [
    "## `experiment`\n",
    "\n",
    "| ** Variable ** | ** Operationalisation ** | \n",
    "| :---- | :--- | \n",
    "| gender | The gender of a participant (1=Male, 2=Female, 3=Other)|\n",
    "| condition | The test condition a participant was assigned to (low, high, or hidden likes)|\n",
    "| gender_condition | The combination of the gender of the person shown on the image and the like count test condition ({female, male} X {low, high, hidden})|\n",
    "| other.evaluation_1 | The extent to which the target person is considered likeable (1=Strongly disagree, 7=Strongly agree) |\n",
    "| other.evaluation_2 | The extent to which the target person is considered popular (1=Strongly disagree, 7=Strongly agree) |\n",
    "| other.evaluation_3 | The extent to which the target person is considered attractive (1=Strongly disagree, 7=Strongly agree) |\n",
    "| self.evaluation_1 | The extent to which the participant considers himself/herself likeable (1=Strongly disagree, 7=Strongly agree) |\n",
    "| self.evaluation_2 | The extent to which the participant considers himself/herself popular (1=Strongly disagree, 7=Strongly agree) |\n",
    "| self.evaluation_3 | The extent to which the participant considers himself/herself attractive (1=Strongly disagree, 7=Strongly agree) |\n",
    "| instagram_actions_1 | The participant's likelihood to like the photo (1=Extremely unlikely, 7=Extremely likely)|\n",
    "| instagram_actions_2 | The participant's likelihood to comment on the photo (1=Extremely unlikely, 7=Extremely likely)|\n",
    "| instagram_actions_3 | The participant's likelihood to follow the Instagram user (1=Extremely unlikely, 7=Extremely likely)|\n",
    "| instagram_actions_4 | The participant's likelihood to share a photo on Instagram (1=Extremely unlikely, 7=Extremely likely)|\n",
    "| instagram_usage | The average time daily spent on Instagram (1=Less than 10 minutes, 2=11-30 minutes, 3=31-60 minutes, 4=1-2 hours, 5=2-3 hours, 6=More than 3 hours).|\n",
    "| age | The participant's age (in years). The survey was conducted among 18-30 year-olds.|\n",
    "| ethnicity | The participant's ethnicity (1=White, 2=Black, 3=Hispanic, 4=Asian, 5=Other)|\n",
    "\n",
    "\n",
    "\n",
    "\n"
   ]
  },
  {
   "cell_type": "markdown",
   "metadata": {},
   "source": [
    "## `hypeauditor`\n",
    "\n",
    "| ** Variable ** | ** Operationalisation ** | \n",
    "| :---- | :--- | \n",
    "| followers_from_country | The number of accounts that follow the user from a given country at data retrieval (i.e., subset of total_follower)|\n",
    "| topics | Tag words associated with the image content of the user|\n",
    "| total_follower| The total number of accounts that follow the user at data retrieval |\n",
    "| url| Link to HypeAuditor ranking for a topic (country can be extracted from the URL)|\n",
    "| username| Instagram username of the influencer account|"
   ]
  },
  {
   "cell_type": "markdown",
   "metadata": {
    "collapsed": true
   },
   "source": [
    "## `image_similarity_between_tags`\n",
    "\n",
    "| ** Variable ** | ** Operationalisation ** | \n",
    "| :---- | :--- | \n",
    "| username1 | Instagram username of the account whose image content is compared with username2 |\n",
    "| username2 | Instagram username of the account whose image content is compared with username1 |\n",
    "| username1_2 | Concatenation of username1 and username2 in alphabetical order to identify overlapping pairs: (username1, username2) and (username2, username1) |\n",
    "| before_after | Indicator variable for the intervention time frame (either before or after) |\n",
    "| similarity | Mean cosine similarity of images of username1 and username2 before or after hiding like counts |"
   ]
  },
  {
   "cell_type": "markdown",
   "metadata": {},
   "source": [
    "## `image_similarity_within_tags`\n",
    "\n",
    "| ** Variable ** | ** Operationalisation ** | \n",
    "| :---- | :--- | \n",
    "| username | Instagram username of the account |\n",
    "| before_after | Indicator variable for the intervention time frame (either before or after) |\n",
    "| image_similarity | Mean cosine similarity of all images of a user before or after hiding like counts |"
   ]
  }
 ],
 "metadata": {
  "kernelspec": {
   "display_name": "Python 3",
   "language": "python",
   "name": "python3"
  },
  "language_info": {
   "codemirror_mode": {
    "name": "ipython",
    "version": 3
   },
   "file_extension": ".py",
   "mimetype": "text/x-python",
   "name": "python",
   "nbconvert_exporter": "python",
   "pygments_lexer": "ipython3",
   "version": "3.6.10"
  }
 },
 "nbformat": 4,
 "nbformat_minor": 2
}
