{
 "cells": [
  {
   "cell_type": "markdown",
   "metadata": {},
   "source": [
    "# User Screening\n",
    "\n",
    "*After drawing a random sample of followers from selected influencers accounts, we end up with a list of Instagram usernames and their assumed country of origin. In our study we restrict ourselves to consumer accounts and therefore we need to refine our sampling approach to exclude influencer accounts. Next, we describe how we go from our raw sample to a validated list of consumer accounts. Note that each user must tick **all 5 boxes** (i.e., public profile, sufficient number of posts, not too many followers, validated country of origin, and an account for personal use only) in order to be considered for our sample.*\n",
    "\n",
    "\n",
    "### 1. Public & Available Profile\n",
    "<ul>\n",
    "<li><p style=\"clear: both;\">Post level data can only be obtained for public Instagram accounts. Hence, we exclude private accounts and only include public profiles.</p>\n",
    "\n",
    "<br />\n",
    "\n",
    "<caption><i>Example of public profile</i></caption>\n",
    "<p style=\"clear: both;\">\n",
    "<img style=\"border:1px solid black;\" src=\"./images/public_profile.png\" width=\"350px\" align=\"left\"/>\n",
    "</p>\n",
    "\n",
    "<br />\n",
    "\n",
    "<p style=\"clear: both;\">\n",
    "<br/>\n",
    "<i>Example of private profile</i>\n",
    "</p>\n",
    "<img style=\"border:1px solid black;\" src=\"./images/private_profile.png\" width=\"350px\" align=\"left\"/>\n",
    "\n",
    "</li>\n",
    "</ul>\n",
    "\n"
   ]
  },
  {
   "cell_type": "markdown",
   "metadata": {},
   "source": [
    "<ul style=\"clear: both;\">\n",
    "<li><p style=\"clear: both;\">It may also happen that an account is no longer available after we scraped the list of followers. Most often this these accounts have been removed by Instagram (e.g., bot accounts).</p>\n",
    "<img style=\"border:1px solid black;\" src=\"./images/removed_page.png\" width=\"350px\" align=\"left\"/>\n",
    "\n",
    "</li>\n",
    "</ul>"
   ]
  },
  {
   "cell_type": "markdown",
   "metadata": {},
   "source": [
    "### 2. Number of Posts\n",
    "<ul>\n",
    "<li>\n",
    "<p>We study the post frequency, variety, and like behavior prior and after the intervention. Therefore, we identify user accounts who were already on Instagram before hiding likes and now are still active on the platform. More specifically, both treatment and control untis  should have published **at least 50 posts in total** of which **at least 5 before the intervention** and **5 after the intervention**. </p>\n",
    "\n",
    "<br/>\n",
    "\n",
    "<caption><i>Publishing dates can be retrieved for all posts (which are ordered chronologically)</i></caption>\n",
    "<p style=\"clear: both;\">\n",
    "<img style=\"border:1px solid black;\" src=\"./images/publish_date.png\" width=\"350px\" align=\"left\"/>\n",
    "</p>\n",
    "\n",
    "<p style=\"clear: both;\">\n",
    "<br/>\n",
    "Note that like counts were hidden among Canadian users prior to other treatment countries (Australia, Brazil, Italy). For control units we also use the 17th of July 2019 as a cut-off point for the intervention:</p>\n",
    "</li>\n",
    "</ul>\n",
    "\n",
    "\n",
    "| Country | Date of intervention  |\n",
    "| ------- | ------ |  \n",
    "| Canada | 30th of April 2019 |\n",
    "| Other | 17th of July 2019 |"
   ]
  },
  {
   "cell_type": "markdown",
   "metadata": {},
   "source": [
    "### 3. Number of Followers\n",
    "<ul>\n",
    "<li>\n",
    "Influencers may respond differently to hiding like counts than everday consumers. Hence, we identify influencers accounts by their number of followers and exclude them from our sample. In line with this idea, we only include accounts with less than 5000 followers. <br/><br/>\n",
    "\n",
    "\n",
    "<caption style=\"clear: both;\"><i>The number of followers can be directly seen on the profile page.</i></caption>\n",
    "\n",
    "<p>\n",
    "<img style=\"border:1px solid black;\" src=\"./images/followers.png\" width=\"350px\" align=\"left\"/>\n",
    "</p>\n",
    "\n",
    "</li>\n",
    "</ul>"
   ]
  },
  {
   "cell_type": "markdown",
   "metadata": {
    "collapsed": true
   },
   "source": [
    "### 4. Country of Origin\n",
    "<ul>\n",
    "<li>\n",
    "Through our sampling approach, we could approximate the follower's country of origin. To ensure our assumptions are correct we go over each Instagram profile and attempt to distill the country of origin using various strategies. In case of doubt, we skipped Instagram users to ensure our assignment to treatment and control conditions is correct.  Here are the three guidelines we used: <br/>\n",
    "\n",
    "<ol>\n",
    "<li><i>The language used in the bio and post captions corresponds with the main language in the country of origin.</i>\n",
    "<img style=\"border:1px solid black;\" src=\"./images/language_bio.png\" width=\"450px\" align=\"left\"/>\n",
    "<p style=\"clear: both;\">&nbsp;</p>\n",
    "</li>\n",
    "\n",
    "<li style=\"clear: both;\"><i>Language use in the post comments is in line with the main language in the country of origin.</i>\n",
    "<img style=\"border:1px solid black;\" src=\"./images/language_comments.png\" width=\"450px\" align=\"left\"/>\n",
    "<p style=\"clear: both;\">&nbsp;</p>\n",
    "</li>\n",
    "\n",
    "<li style=\"clear: both;\"><i>Location tags primarily refer to places in the country of origin (though a vacation photo taken elsewhere may sporadically occur).</i>\n",
    "\n",
    "<img style=\"border:1px solid black;\" src=\"./images/location_tags.png\" width=\"450px\" align=\"left\"/>\n",
    "<p style=\"clear: both;\">&nbsp;</p>\n",
    "</li>\n",
    "</ol>\n",
    "\n",
    "</li>\n",
    "</ul>\n",
    "\n",
    "\n",
    "<p style=\"clear: both;\">\n",
    "Below we list the main language(s) spoken in each of the treatment and control countries. Please keep in mind that England (i.e., country in the UK*) was part of the control group, whereas Ireland (🇮🇪) was one of the treatment countries. As such, the language alone may not be sufficient to validate users' country of origin.</p>\n",
    "\n",
    "| Country | Language(s)  |\n",
    "| ------- | ------ |  \n",
    "| Australia | English (🇦🇺) |\n",
    "| Canada | English (🇨🇦) <br> French (🇫🇷) |\n",
    "| France | French (🇫🇷) |\n",
    "| Germany | German (🇩🇪) |\n",
    "| Italy | Italian (🇮🇹) |\n",
    "| Netherland | Dutch (🇳🇱) |\n",
    "| Spain | Spanish (🇪🇸) |\n",
    "| United Kingdom\\* | English (🇬🇧) |"
   ]
  },
  {
   "cell_type": "markdown",
   "metadata": {},
   "source": [
    "### 5. Personal Use \n",
    "<ul>\n",
    "<li> Given our focus on consumer accounts, we eliminate commercially affiliated Instagram accounts. Specifically, we exclude accounts that: <br/>\n",
    "\n",
    "<ol>\n",
    "\n",
    "<li style=\"clear: both;\">\n",
    "    <i>Are maintained by an organisation or company (as oppossed to an individual user)</i>\n",
    "    <img style=\"border:1px solid black;\" src=\"./images/organisation.png\" width=\"450px\" align=\"left\"/>\n",
    "    <p style=\"clear: both;\">&nbsp;</p>\n",
    "</li>\n",
    "\n",
    "<li style=\"clear: both;\">\n",
    "    <i>Promote products or services in photo and/or video posts they share on Instagram</i>\n",
    "    <img style=\"border:1px solid black;\" src=\"./images/promote.png\" width=\"450px\" align=\"left\"/>\n",
    "</li>\n",
    "\n",
    "</ol>\n",
    "\n",
    "</li>\n",
    "</ul>"
   ]
  },
  {
   "cell_type": "markdown",
   "metadata": {
    "collapsed": true
   },
   "source": [
    "--- \n",
    "*Klaasse Bos, R.J. (2020). Web Appendix: Goodbye Likes, Hello Mental Health: How Hiding Like Counts Affects User Behavior & Self-Esteem.*"
   ]
  }
 ],
 "metadata": {
  "kernelspec": {
   "display_name": "Python 3",
   "language": "python",
   "name": "python3"
  },
  "language_info": {
   "codemirror_mode": {
    "name": "ipython",
    "version": 3
   },
   "file_extension": ".py",
   "mimetype": "text/x-python",
   "name": "python",
   "nbconvert_exporter": "python",
   "pygments_lexer": "ipython3",
   "version": "3.6.10"
  }
 },
 "nbformat": 4,
 "nbformat_minor": 2
}
